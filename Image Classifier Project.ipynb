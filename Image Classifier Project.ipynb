{
 "cells": [
  {
   "cell_type": "markdown",
   "metadata": {},
   "source": [
    "# Developing an AI application\n",
    "\n",
    "Going forward, AI algorithms will be incorporated into more and more everyday applications. For example, you might want to include an image classifier in a smart phone app. To do this, you'd use a deep learning model trained on hundreds of thousands of images as part of the overall application architecture. A large part of software development in the future will be using these types of models as common parts of applications. \n",
    "\n",
    "In this project, you'll train an image classifier to recognize different species of flowers. You can imagine using something like this in a phone app that tells you the name of the flower your camera is looking at. In practice you'd train this classifier, then export it for use in your application. We'll be using [this dataset](http://www.robots.ox.ac.uk/~vgg/data/flowers/102/index.html) of 102 flower categories, you can see a few examples below. \n",
    "\n",
    "<img src='assets/Flowers.png' width=500px>\n",
    "\n",
    "The project is broken down into multiple steps:\n",
    "\n",
    "* Load and preprocess the image dataset\n",
    "* Train the image classifier on your dataset\n",
    "* Use the trained classifier to predict image content\n",
    "\n",
    "We'll lead you through each part which you'll implement in Python.\n",
    "\n",
    "When you've completed this project, you'll have an application that can be trained on any set of labeled images. Here your network will be learning about flowers and end up as a command line application. But, what you do with your new skills depends on your imagination and effort in building a dataset. For example, imagine an app where you take a picture of a car, it tells you what the make and model is, then looks up information about it. Go build your own dataset and make something new.\n",
    "\n",
    "First up is importing the packages you'll need. It's good practice to keep all the imports at the beginning of your code. As you work through this notebook and find you need to import a package, make sure to add the import up here."
   ]
  },
  {
   "cell_type": "code",
   "execution_count": 1,
   "metadata": {},
   "outputs": [],
   "source": [
    "# Imports here\n",
    "from torch import nn\n",
    "from torch import optim\n",
    "import torch.nn.functional as F\n",
    "%matplotlib inline\n",
    "%config InlineBackend.figure_format = 'retina'\n",
    "import matplotlib.pyplot as plt\n",
    "from PIL import Image\n",
    "from torchvision import datasets, transforms, models\n",
    "from collections import OrderedDict\n",
    "\n",
    "import numpy as np\n",
    "import torch\n",
    "import time\n",
    "import json\n"
   ]
  },
  {
   "cell_type": "markdown",
   "metadata": {},
   "source": [
    "## Load the data\n",
    "\n",
    "Here you'll use `torchvision` to load the data ([documentation](http://pytorch.org/docs/0.3.0/torchvision/index.html)). The data should be included alongside this notebook, otherwise you can [download it here](https://s3.amazonaws.com/content.udacity-data.com/nd089/flower_data.tar.gz). The dataset is split into three parts, training, validation, and testing. For the training, you'll want to apply transformations such as random scaling, cropping, and flipping. This will help the network generalize leading to better performance. You'll also need to make sure the input data is resized to 224x224 pixels as required by the pre-trained networks.\n",
    "\n",
    "The validation and testing sets are used to measure the model's performance on data it hasn't seen yet. For this you don't want any scaling or rotation transformations, but you'll need to resize then crop the images to the appropriate size.\n",
    "\n",
    "The pre-trained networks you'll use were trained on the ImageNet dataset where each color channel was normalized separately. For all three sets you'll need to normalize the means and standard deviations of the images to what the network expects. For the means, it's `[0.485, 0.456, 0.406]` and for the standard deviations `[0.229, 0.224, 0.225]`, calculated from the ImageNet images.  These values will shift each color channel to be centered at 0 and range from -1 to 1.\n",
    " "
   ]
  },
  {
   "cell_type": "code",
   "execution_count": 2,
   "metadata": {},
   "outputs": [],
   "source": [
    "data_dir = 'flowers'\n",
    "train_dir = data_dir + '/train'\n",
    "valid_dir = data_dir + '/valid'\n",
    "test_dir = data_dir + '/test'"
   ]
  },
  {
   "cell_type": "code",
   "execution_count": 3,
   "metadata": {},
   "outputs": [],
   "source": [
    "# TODO: Define your transforms for the training, validation, and testing sets\n",
    "train_transforms = transforms.Compose([transforms.RandomRotation(30),\n",
    "                                       transforms.RandomResizedCrop(224),\n",
    "                                       transforms.RandomHorizontalFlip(),\n",
    "                                       transforms.ToTensor(),\n",
    "                                       transforms.Normalize([0.485, 0.456, 0.406], \n",
    "                                                            [0.229, 0.224, 0.225])])\n",
    "\n",
    "test_val_transforms = transforms.Compose([transforms.Resize(256),\n",
    "                                      transforms.CenterCrop(224),\n",
    "                                      transforms.ToTensor(),\n",
    "                                      transforms.Normalize([0.485, 0.456, 0.406], \n",
    "                                                           [0.229, 0.224, 0.225])])\n",
    "\n",
    "# TODO: Load the datasets with ImageFolder\n",
    "train_data = datasets.ImageFolder(train_dir, transform=train_transforms)\n",
    "val_data = datasets.ImageFolder(valid_dir, transform=test_val_transforms)\n",
    "test_data = datasets.ImageFolder(test_dir, transform=test_val_transforms)\n",
    "\n",
    "trainloader = torch.utils.data.DataLoader(train_data, batch_size=64, shuffle=True)\n",
    "validationloader = torch.utils.data.DataLoader(val_data, batch_size=32)\n",
    "testloader = torch.utils.data.DataLoader(test_data, batch_size=32)"
   ]
  },
  {
   "cell_type": "code",
   "execution_count": 4,
   "metadata": {},
   "outputs": [],
   "source": [
    "dataiter = iter(trainloader)\n",
    "images, labels = dataiter.next()"
   ]
  },
  {
   "cell_type": "markdown",
   "metadata": {},
   "source": [
    "### Label mapping\n",
    "\n",
    "You'll also need to load in a mapping from category label to category name. You can find this in the file `cat_to_name.json`. It's a JSON object which you can read in with the [`json` module](https://docs.python.org/2/library/json.html). This will give you a dictionary mapping the integer encoded categories to the actual names of the flowers."
   ]
  },
  {
   "cell_type": "code",
   "execution_count": 5,
   "metadata": {},
   "outputs": [],
   "source": [
    "with open('cat_to_name.json', 'r') as f:\n",
    "    cat_to_name = json.load(f)\n"
   ]
  },
  {
   "cell_type": "markdown",
   "metadata": {},
   "source": [
    "# Building and training the classifier\n",
    "\n",
    "Now that the data is ready, it's time to build and train the classifier. As usual, you should use one of the pretrained models from `torchvision.models` to get the image features. Build and train a new feed-forward classifier using those features.\n",
    "\n",
    "We're going to leave this part up to you. If you want to talk through it with someone, chat with your fellow students! You can also ask questions on the forums or join the instructors in office hours.\n",
    "\n",
    "Refer to [the rubric](https://review.udacity.com/#!/rubrics/1663/view) for guidance on successfully completing this section. Things you'll need to do:\n",
    "\n",
    "* Load a [pre-trained network](http://pytorch.org/docs/master/torchvision/models.html) (If you need a starting point, the VGG networks work great and are straightforward to use)\n",
    "* Define a new, untrained feed-forward network as a classifier, using ReLU activations and dropout\n",
    "* Train the classifier layers using backpropagation using the pre-trained network to get the features\n",
    "* Track the loss and accuracy on the validation set to determine the best hyperparameters\n",
    "\n",
    "We've left a cell open for you below, but use as many as you need. Our advice is to break the problem up into smaller parts you can run separately. Check that each part is doing what you expect, then move on to the next. You'll likely find that as you work through each part, you'll need to go back and modify your previous code. This is totally normal!\n",
    "\n",
    "When training make sure you're updating only the weights of the feed-forward network. You should be able to get the validation accuracy above 70% if you build everything right. Make sure to try different hyperparameters (learning rate, units in the classifier, epochs, etc) to find the best model. Save those hyperparameters to use as default values in the next part of the project."
   ]
  },
  {
   "cell_type": "code",
   "execution_count": 6,
   "metadata": {},
   "outputs": [
    {
     "data": {
      "text/plain": [
       "VGG(\n",
       "  (features): Sequential(\n",
       "    (0): Conv2d(3, 64, kernel_size=(3, 3), stride=(1, 1), padding=(1, 1))\n",
       "    (1): ReLU(inplace)\n",
       "    (2): Conv2d(64, 64, kernel_size=(3, 3), stride=(1, 1), padding=(1, 1))\n",
       "    (3): ReLU(inplace)\n",
       "    (4): MaxPool2d(kernel_size=2, stride=2, padding=0, dilation=1, ceil_mode=False)\n",
       "    (5): Conv2d(64, 128, kernel_size=(3, 3), stride=(1, 1), padding=(1, 1))\n",
       "    (6): ReLU(inplace)\n",
       "    (7): Conv2d(128, 128, kernel_size=(3, 3), stride=(1, 1), padding=(1, 1))\n",
       "    (8): ReLU(inplace)\n",
       "    (9): MaxPool2d(kernel_size=2, stride=2, padding=0, dilation=1, ceil_mode=False)\n",
       "    (10): Conv2d(128, 256, kernel_size=(3, 3), stride=(1, 1), padding=(1, 1))\n",
       "    (11): ReLU(inplace)\n",
       "    (12): Conv2d(256, 256, kernel_size=(3, 3), stride=(1, 1), padding=(1, 1))\n",
       "    (13): ReLU(inplace)\n",
       "    (14): Conv2d(256, 256, kernel_size=(3, 3), stride=(1, 1), padding=(1, 1))\n",
       "    (15): ReLU(inplace)\n",
       "    (16): MaxPool2d(kernel_size=2, stride=2, padding=0, dilation=1, ceil_mode=False)\n",
       "    (17): Conv2d(256, 512, kernel_size=(3, 3), stride=(1, 1), padding=(1, 1))\n",
       "    (18): ReLU(inplace)\n",
       "    (19): Conv2d(512, 512, kernel_size=(3, 3), stride=(1, 1), padding=(1, 1))\n",
       "    (20): ReLU(inplace)\n",
       "    (21): Conv2d(512, 512, kernel_size=(3, 3), stride=(1, 1), padding=(1, 1))\n",
       "    (22): ReLU(inplace)\n",
       "    (23): MaxPool2d(kernel_size=2, stride=2, padding=0, dilation=1, ceil_mode=False)\n",
       "    (24): Conv2d(512, 512, kernel_size=(3, 3), stride=(1, 1), padding=(1, 1))\n",
       "    (25): ReLU(inplace)\n",
       "    (26): Conv2d(512, 512, kernel_size=(3, 3), stride=(1, 1), padding=(1, 1))\n",
       "    (27): ReLU(inplace)\n",
       "    (28): Conv2d(512, 512, kernel_size=(3, 3), stride=(1, 1), padding=(1, 1))\n",
       "    (29): ReLU(inplace)\n",
       "    (30): MaxPool2d(kernel_size=2, stride=2, padding=0, dilation=1, ceil_mode=False)\n",
       "  )\n",
       "  (classifier): Sequential(\n",
       "    (0): Linear(in_features=25088, out_features=4096, bias=True)\n",
       "    (1): ReLU(inplace)\n",
       "    (2): Dropout(p=0.5)\n",
       "    (3): Linear(in_features=4096, out_features=4096, bias=True)\n",
       "    (4): ReLU(inplace)\n",
       "    (5): Dropout(p=0.5)\n",
       "    (6): Linear(in_features=4096, out_features=1000, bias=True)\n",
       "  )\n",
       ")"
      ]
     },
     "execution_count": 6,
     "metadata": {},
     "output_type": "execute_result"
    }
   ],
   "source": [
    "# TODO: Build and train your network\n",
    "model = models.vgg16(pretrained=True)\n",
    "model"
   ]
  },
  {
   "cell_type": "code",
   "execution_count": 7,
   "metadata": {},
   "outputs": [],
   "source": [
    "# Freeze parameters so we don't backprop through them\n",
    "for param in model.parameters():\n",
    "    param.requires_grad = False\n",
    "\n",
    "\n",
    "classifier = nn.Sequential(OrderedDict([\n",
    "                          ('fc1', nn.Linear(25088, 4096)),\n",
    "                          ('relu1', nn.ReLU()),\n",
    "                          ('drop1', nn.Dropout(0.5)),\n",
    "                          ('fc2', nn.Linear(4096, 1000)),\n",
    "                          ('relu2', nn.ReLU()),\n",
    "                          ('drop2', nn.Dropout(0.5)), \n",
    "                          ('fc4', nn.Linear(1000, 102)),  \n",
    "                          ('output', nn.LogSoftmax(dim=1))]))\n",
    "    \n",
    "model.classifier = classifier"
   ]
  },
  {
   "cell_type": "code",
   "execution_count": 8,
   "metadata": {},
   "outputs": [],
   "source": [
    "# Train a model with a pre-trained network\n",
    "criterion = nn.NLLLoss()\n",
    "optimizer = optim.Adam(model.classifier.parameters(), lr=0.0005)"
   ]
  },
  {
   "cell_type": "code",
   "execution_count": 9,
   "metadata": {},
   "outputs": [],
   "source": [
    "epochs = 0"
   ]
  },
  {
   "cell_type": "code",
   "execution_count": 10,
   "metadata": {},
   "outputs": [
    {
     "name": "stdout",
     "output_type": "stream",
     "text": [
      "Epoch: 1/10..  Training Loss: 5.671..  Validation Loss: 0.215..  Validation Accuracy: 0.000\n",
      "Epoch: 1/10..  Training Loss: 5.149..  Validation Loss: 0.189..  Validation Accuracy: 0.000\n",
      "Epoch: 2/10..  Training Loss: 1.825..  Validation Loss: 0.175..  Validation Accuracy: 0.004\n",
      "Epoch: 2/10..  Training Loss: 4.544..  Validation Loss: 0.170..  Validation Accuracy: 0.016\n",
      "Epoch: 2/10..  Training Loss: 4.424..  Validation Loss: 0.166..  Validation Accuracy: 0.033\n",
      "Epoch: 2/10..  Training Loss: 4.253..  Validation Loss: 0.165..  Validation Accuracy: 0.070\n",
      "Epoch: 2/10..  Training Loss: 4.025..  Validation Loss: 0.150..  Validation Accuracy: 0.120\n",
      "Epoch: 2/10..  Training Loss: 3.752..  Validation Loss: 0.134..  Validation Accuracy: 0.185\n",
      "Epoch: 2/10..  Training Loss: 3.481..  Validation Loss: 0.122..  Validation Accuracy: 0.257\n",
      "Epoch: 2/10..  Training Loss: 3.274..  Validation Loss: 0.114..  Validation Accuracy: 0.360\n",
      "Epoch: 2/10..  Training Loss: 2.867..  Validation Loss: 0.100..  Validation Accuracy: 0.475\n",
      "Epoch: 2/10..  Training Loss: 2.727..  Validation Loss: 0.091..  Validation Accuracy: 0.600\n",
      "Epoch: 3/10..  Training Loss: 0.161..  Validation Loss: 0.062..  Validation Accuracy: 0.024\n",
      "Epoch: 3/10..  Training Loss: 2.746..  Validation Loss: 0.114..  Validation Accuracy: 0.145\n",
      "Epoch: 3/10..  Training Loss: 2.976..  Validation Loss: 0.137..  Validation Accuracy: 0.224\n",
      "Epoch: 4/10..  Training Loss: 1.633..  Validation Loss: 0.110..  Validation Accuracy: 0.052\n",
      "Epoch: 4/10..  Training Loss: 2.805..  Validation Loss: 0.109..  Validation Accuracy: 0.177\n",
      "Epoch: 4/10..  Training Loss: 2.430..  Validation Loss: 0.088..  Validation Accuracy: 0.323\n",
      "Epoch: 4/10..  Training Loss: 2.299..  Validation Loss: 0.102..  Validation Accuracy: 0.479\n",
      "Epoch: 4/10..  Training Loss: 2.036..  Validation Loss: 0.073..  Validation Accuracy: 0.661\n",
      "Epoch: 4/10..  Training Loss: 2.102..  Validation Loss: 0.078..  Validation Accuracy: 0.838\n",
      "Epoch: 4/10..  Training Loss: 2.019..  Validation Loss: 0.066..  Validation Accuracy: 1.019\n",
      "Epoch: 4/10..  Training Loss: 1.857..  Validation Loss: 0.061..  Validation Accuracy: 1.216\n",
      "Epoch: 4/10..  Training Loss: 1.865..  Validation Loss: 0.065..  Validation Accuracy: 1.413\n",
      "Epoch: 4/10..  Training Loss: 1.729..  Validation Loss: 0.060..  Validation Accuracy: 1.612\n",
      "Epoch: 5/10..  Training Loss: 0.083..  Validation Loss: 0.015..  Validation Accuracy: 0.070\n",
      "Epoch: 5/10..  Training Loss: 1.363..  Validation Loss: 0.085..  Validation Accuracy: 0.300\n",
      "Epoch: 5/10..  Training Loss: 1.449..  Validation Loss: 0.081..  Validation Accuracy: 0.518\n",
      "Epoch: 6/10..  Training Loss: 1.461..  Validation Loss: 0.091..  Validation Accuracy: 0.086\n",
      "Epoch: 6/10..  Training Loss: 1.941..  Validation Loss: 0.071..  Validation Accuracy: 0.270\n",
      "Epoch: 6/10..  Training Loss: 1.780..  Validation Loss: 0.071..  Validation Accuracy: 0.481\n",
      "Epoch: 6/10..  Training Loss: 1.651..  Validation Loss: 0.056..  Validation Accuracy: 0.697\n",
      "Epoch: 6/10..  Training Loss: 1.592..  Validation Loss: 0.077..  Validation Accuracy: 0.913\n",
      "Epoch: 6/10..  Training Loss: 1.658..  Validation Loss: 0.066..  Validation Accuracy: 1.124\n",
      "Epoch: 6/10..  Training Loss: 1.459..  Validation Loss: 0.046..  Validation Accuracy: 1.359\n",
      "Epoch: 6/10..  Training Loss: 1.475..  Validation Loss: 0.055..  Validation Accuracy: 1.594\n",
      "Epoch: 6/10..  Training Loss: 1.550..  Validation Loss: 0.066..  Validation Accuracy: 1.811\n",
      "Epoch: 6/10..  Training Loss: 1.512..  Validation Loss: 0.069..  Validation Accuracy: 2.043\n",
      "Epoch: 7/10..  Training Loss: 0.052..  Validation Loss: 0.010..  Validation Accuracy: 0.112\n",
      "Epoch: 7/10..  Training Loss: 0.631..  Validation Loss: 0.014..  Validation Accuracy: 0.430\n",
      "Epoch: 7/10..  Training Loss: 0.719..  Validation Loss: 0.015..  Validation Accuracy: 0.734\n",
      "Epoch: 8/10..  Training Loss: 1.220..  Validation Loss: 0.052..  Validation Accuracy: 0.143\n",
      "Epoch: 8/10..  Training Loss: 1.524..  Validation Loss: 0.066..  Validation Accuracy: 0.377\n",
      "Epoch: 8/10..  Training Loss: 1.303..  Validation Loss: 0.049..  Validation Accuracy: 0.629\n",
      "Epoch: 8/10..  Training Loss: 1.446..  Validation Loss: 0.050..  Validation Accuracy: 0.859\n",
      "Epoch: 8/10..  Training Loss: 1.329..  Validation Loss: 0.055..  Validation Accuracy: 1.111\n",
      "Epoch: 8/10..  Training Loss: 1.299..  Validation Loss: 0.045..  Validation Accuracy: 1.363\n",
      "Epoch: 8/10..  Training Loss: 1.221..  Validation Loss: 0.039..  Validation Accuracy: 1.615\n",
      "Epoch: 8/10..  Training Loss: 1.318..  Validation Loss: 0.058..  Validation Accuracy: 1.865\n",
      "Epoch: 8/10..  Training Loss: 1.400..  Validation Loss: 0.071..  Validation Accuracy: 2.098\n",
      "Epoch: 8/10..  Training Loss: 1.325..  Validation Loss: 0.046..  Validation Accuracy: 2.340\n",
      "Epoch: 9/10..  Training Loss: 0.096..  Validation Loss: 0.007..  Validation Accuracy: 0.145\n",
      "Epoch: 9/10..  Training Loss: 0.436..  Validation Loss: 0.018..  Validation Accuracy: 0.481\n",
      "Epoch: 9/10..  Training Loss: 0.408..  Validation Loss: 0.026..  Validation Accuracy: 0.822\n",
      "Epoch: 10/10..  Training Loss: 1.136..  Validation Loss: 0.056..  Validation Accuracy: 0.190\n",
      "Epoch: 10/10..  Training Loss: 1.311..  Validation Loss: 0.050..  Validation Accuracy: 0.441\n",
      "Epoch: 10/10..  Training Loss: 1.205..  Validation Loss: 0.048..  Validation Accuracy: 0.697\n",
      "Epoch: 10/10..  Training Loss: 1.243..  Validation Loss: 0.035..  Validation Accuracy: 0.959\n",
      "Epoch: 10/10..  Training Loss: 1.104..  Validation Loss: 0.052..  Validation Accuracy: 1.220\n",
      "Epoch: 10/10..  Training Loss: 1.184..  Validation Loss: 0.059..  Validation Accuracy: 1.485\n",
      "Epoch: 10/10..  Training Loss: 1.247..  Validation Loss: 0.063..  Validation Accuracy: 1.742\n",
      "Epoch: 10/10..  Training Loss: 1.264..  Validation Loss: 0.060..  Validation Accuracy: 1.995\n",
      "Epoch: 10/10..  Training Loss: 1.176..  Validation Loss: 0.035..  Validation Accuracy: 2.260\n",
      "Epoch: 10/10..  Training Loss: 1.247..  Validation Loss: 0.054..  Validation Accuracy: 2.508\n"
     ]
    }
   ],
   "source": [
    "# Putting the above into functions, so they can be used later\n",
    "\n",
    "\n",
    "def do_deep_learning(model, trainloader, validationloader, epochs, print_every, criterion, optimizer, device='cpu'):\n",
    "    epochs = epochs\n",
    "    print_every = print_every\n",
    "    steps = 0\n",
    "\n",
    "    # change to cuda\n",
    "    model.to('cuda')\n",
    "\n",
    "    for e in range(epochs):\n",
    "        if e % 2 == 0:\n",
    "            loader = validationloader\n",
    "        else:\n",
    "            loader = trainloader\n",
    "        running_loss = 0\n",
    "        accuracy = 0\n",
    "        val_loss = 0\n",
    "        for ii, (inputs, labels) in enumerate(loader):\n",
    "            steps += 1\n",
    "\n",
    "            inputs, labels = inputs.to('cuda'), labels.to('cuda')\n",
    "\n",
    "            optimizer.zero_grad()\n",
    "\n",
    "            # Forward and backward passes\n",
    "            outputs = model.forward(inputs)\n",
    "            val_loss = criterion(outputs, labels)\n",
    "            val_loss.backward()\n",
    "            optimizer.step()\n",
    "            ps = torch.exp(outputs).data\n",
    "            equality = (labels.data == ps.max(1)[1])\n",
    "            accuracy += equality.type_as(torch.FloatTensor()).mean()\n",
    "\n",
    "            running_loss += val_loss.item()\n",
    "\n",
    "            if steps % print_every == 0:\n",
    "                print(\"Epoch: {}/{}.. \".format(e+1, epochs),\n",
    "                      \"Training Loss: {:.3f}.. \".format(running_loss/print_every),\n",
    "                      \"Validation Loss: {:.3f}.. \".format(val_loss/len(validationloader)),\n",
    "                      \"Validation Accuracy: {:.3f}\".format(accuracy/len(validationloader)))\n",
    "                running_loss = 0\n",
    "do_deep_learning(model, trainloader, validationloader, 10, 10, criterion, optimizer, 'gpu')"
   ]
  },
  {
   "cell_type": "markdown",
   "metadata": {},
   "source": [
    "## Testing your network\n",
    "\n",
    "It's good practice to test your trained network on test data, images the network has never seen either in training or validation. This will give you a good estimate for the model's performance on completely new images. Run the test images through the network and measure the accuracy, the same way you did validation. You should be able to reach around 70% accuracy on the test set if the model has been trained well."
   ]
  },
  {
   "cell_type": "code",
   "execution_count": 11,
   "metadata": {},
   "outputs": [],
   "source": [
    "def check_accuracy_on_test(testloader):   \n",
    "    correct = 0\n",
    "    total = 0\n",
    "    model.eval() \n",
    "    with torch.no_grad():\n",
    "        for data in testloader:\n",
    "            images, labels = data\n",
    "            images, labels = images.to('cuda'), labels.to('cuda')\n",
    "            outputs = model(images)\n",
    "            _, predicted = torch.max(outputs.data, 1)\n",
    "            total += labels.size(0)\n",
    "            correct += (predicted == labels).sum().item()\n",
    "\n",
    "    print('Accuracy of the network on the 10000 test images: %d %%' % (100 * correct / total))"
   ]
  },
  {
   "cell_type": "code",
   "execution_count": 12,
   "metadata": {},
   "outputs": [
    {
     "name": "stdout",
     "output_type": "stream",
     "text": [
      "Accuracy of the network on the 10000 test images: 84 %\n"
     ]
    }
   ],
   "source": [
    "# TODO: Do validation on the test set\n",
    "check_accuracy_on_test(testloader)"
   ]
  },
  {
   "cell_type": "markdown",
   "metadata": {},
   "source": [
    "## Save the checkpoint\n",
    "\n",
    "Now that your network is trained, save the model so you can load it later for making predictions. You probably want to save other things such as the mapping of classes to indices which you get from one of the image datasets: `image_datasets['train'].class_to_idx`. You can attach this to the model as an attribute which makes inference easier later on.\n",
    "\n",
    "```model.class_to_idx = image_datasets['train'].class_to_idx```\n",
    "\n",
    "Remember that you'll want to completely rebuild the model later so you can use it for inference. Make sure to include any information you need in the checkpoint. If you want to load the model and keep training, you'll want to save the number of epochs as well as the optimizer state, `optimizer.state_dict`. You'll likely want to use this trained model in the next part of the project, so best to save it now."
   ]
  },
  {
   "cell_type": "code",
   "execution_count": 13,
   "metadata": {},
   "outputs": [],
   "source": [
    "def save_checkpoint(model):\n",
    "    model.class_to_idx = train_data.class_to_idx\n",
    "    checkpoint = {\n",
    "              'state_dict': model.state_dict(),\n",
    "              'image_datasets' : model.class_to_idx,\n",
    "              'epochs': epochs,\n",
    "              'optimizer': optimizer.state_dict(),\n",
    "             }\n",
    "    torch.save(checkpoint, 'checkpoint.pth')"
   ]
  },
  {
   "cell_type": "code",
   "execution_count": 14,
   "metadata": {},
   "outputs": [],
   "source": [
    "save_checkpoint(model)"
   ]
  },
  {
   "cell_type": "markdown",
   "metadata": {},
   "source": [
    "## Loading the checkpoint\n",
    "\n",
    "At this point it's good to write a function that can load a checkpoint and rebuild the model. That way you can come back to this project and keep working on it without having to retrain the network."
   ]
  },
  {
   "cell_type": "code",
   "execution_count": 15,
   "metadata": {},
   "outputs": [],
   "source": [
    "# Write a function that loads a checkpoint and rebuilds the model\n",
    "def load_checkpoint(filepath):\n",
    "    checkpoint = torch.load(filepath)\n",
    "    epochs = checkpoint['epochs']\n",
    "    model.load_state_dict(checkpoint['state_dict'])\n",
    "    model.class_to_idx = checkpoint['image_datasets']\n",
    "    optimizer.load_state_dict(checkpoint['optimizer'])\n",
    "    return model\n"
   ]
  },
  {
   "cell_type": "code",
   "execution_count": 16,
   "metadata": {},
   "outputs": [],
   "source": [
    "model = load_checkpoint('checkpoint.pth')\n"
   ]
  },
  {
   "cell_type": "markdown",
   "metadata": {},
   "source": [
    "# Inference for classification\n",
    "\n",
    "Now you'll write a function to use a trained network for inference. That is, you'll pass an image into the network and predict the class of the flower in the image. Write a function called `predict` that takes an image and a model, then returns the top $K$ most likely classes along with the probabilities. It should look like \n",
    "\n",
    "```python\n",
    "probs, classes = predict(image_path, model)\n",
    "print(probs)\n",
    "print(classes)\n",
    "> [ 0.01558163  0.01541934  0.01452626  0.01443549  0.01407339]\n",
    "> ['70', '3', '45', '62', '55']\n",
    "```\n",
    "\n",
    "First you'll need to handle processing the input image such that it can be used in your network. \n",
    "\n",
    "## Image Preprocessing\n",
    "\n",
    "You'll want to use `PIL` to load the image ([documentation](https://pillow.readthedocs.io/en/latest/reference/Image.html)). It's best to write a function that preprocesses the image so it can be used as input for the model. This function should process the images in the same manner used for training. \n",
    "\n",
    "First, resize the images where the shortest side is 256 pixels, keeping the aspect ratio. This can be done with the [`thumbnail`](http://pillow.readthedocs.io/en/3.1.x/reference/Image.html#PIL.Image.Image.thumbnail) or [`resize`](http://pillow.readthedocs.io/en/3.1.x/reference/Image.html#PIL.Image.Image.thumbnail) methods. Then you'll need to crop out the center 224x224 portion of the image.\n",
    "\n",
    "Color channels of images are typically encoded as integers 0-255, but the model expected floats 0-1. You'll need to convert the values. It's easiest with a Numpy array, which you can get from a PIL image like so `np_image = np.array(pil_image)`.\n",
    "\n",
    "As before, the network expects the images to be normalized in a specific way. For the means, it's `[0.485, 0.456, 0.406]` and for the standard deviations `[0.229, 0.224, 0.225]`. You'll want to subtract the means from each color channel, then divide by the standard deviation. \n",
    "\n",
    "And finally, PyTorch expects the color channel to be the first dimension but it's the third dimension in the PIL image and Numpy array. You can reorder dimensions using [`ndarray.transpose`](https://docs.scipy.org/doc/numpy-1.13.0/reference/generated/numpy.ndarray.transpose.html). The color channel needs to be first and retain the order of the other two dimensions."
   ]
  },
  {
   "cell_type": "code",
   "execution_count": 17,
   "metadata": {},
   "outputs": [],
   "source": [
    "# TODO: Process a PIL image for use in a PyTorch model\n",
    "def process_image(image):\n",
    "    pil_image = Image.open(image)\n",
    "    pil_image.show()\n",
    "    pil_image = pil_image.resize((256,256))\n",
    "    size = 256, 256\n",
    "    pil_image.thumbnail(size, Image.ANTIALIAS)\n",
    "    pil_image = pil_image.crop((\n",
    "        size[0]//2 - 112,\n",
    "        size[1]//2 - 112,\n",
    "        size[0]//2 + 112,\n",
    "        size[1]//2 + 112)\n",
    "    )\n",
    "    \n",
    "    np_image = np.array(pil_image)    \n",
    "    mean = np.array([0.485, 0.456, 0.406])\n",
    "    std = np.array([0.229, 0.224, 0.225])\n",
    "    np_image=(np_image-mean)/std       \n",
    "    return np_image.transpose()"
   ]
  },
  {
   "cell_type": "markdown",
   "metadata": {},
   "source": [
    "To check your work, the function below converts a PyTorch tensor and displays it in the notebook. If your `process_image` function works, running the output through this function should return the original image (except for the cropped out portions)."
   ]
  },
  {
   "cell_type": "code",
   "execution_count": 18,
   "metadata": {},
   "outputs": [],
   "source": [
    "def imshow(np_image, ax=None, title=None):\n",
    "    \"\"\"Imshow for Tensor.\"\"\"\n",
    "    if ax is None:\n",
    "        fig, ax = plt.subplots()\n",
    "    \n",
    "    # PyTorch tensors assume the color channel is the first dimension\n",
    "    # but matplotlib assumes is the third dimension\n",
    "    image = np.transpose(np_image,(2,0,1))\n",
    "    \n",
    "    # Undo preprocessing\n",
    "    mean = np.array([0.485, 0.456, 0.406])\n",
    "    std = np.array([0.229, 0.224, 0.225])\n",
    "    image = std * image + mean\n",
    "    \n",
    "    # Image needs to be clipped between 0 and 1 or it looks like noise when displayed\n",
    "    image = np.clip(image, 0, 1)\n",
    "    \n",
    "    ax.imshow(image)\n",
    "    \n",
    "    return ax"
   ]
  },
  {
   "cell_type": "markdown",
   "metadata": {},
   "source": [
    "## Class Prediction\n",
    "\n",
    "Once you can get images in the correct format, it's time to write a function for making predictions with your model. A common practice is to predict the top 5 or so (usually called top-$K$) most probable classes. You'll want to calculate the class probabilities then find the $K$ largest values.\n",
    "\n",
    "To get the top $K$ largest values in a tensor use [`x.topk(k)`](http://pytorch.org/docs/master/torch.html#torch.topk). This method returns both the highest `k` probabilities and the indices of those probabilities corresponding to the classes. You need to convert from these indices to the actual class labels using `class_to_idx` which hopefully you added to the model or from an `ImageFolder` you used to load the data ([see here](#Save-the-checkpoint)). Make sure to invert the dictionary so you get a mapping from index to class as well.\n",
    "\n",
    "Again, this method should take a path to an image and a model checkpoint, then return the probabilities and classes.\n",
    "\n",
    "```python\n",
    "probs, classes = predict(image_path, model)\n",
    "print(probs)\n",
    "print(classes)\n",
    "> [ 0.01558163  0.01541934  0.01452626  0.01443549  0.01407339]\n",
    "> ['70', '3', '45', '62', '55']\n",
    "```"
   ]
  },
  {
   "cell_type": "code",
   "execution_count": 19,
   "metadata": {},
   "outputs": [],
   "source": [
    "    ''' Predict the class (or classes) of an image using a trained deep learning model.'''\n",
    "    def predict(image_path, model, topk=5): \n",
    "        model = model\n",
    "        model.eval()\n",
    "        model.to('cpu')\n",
    "        model.double()\n",
    "        img = process_image(image_path)\n",
    "        img = torch.from_numpy(img)\n",
    "        img = img.unsqueeze_(0)\n",
    "        with torch.no_grad():\n",
    "            output = model.forward(img)\n",
    "        pred = torch.exp(output)\n",
    "        top_five_probs=pred.topk(topk)[0] \n",
    "        top_five_indices=pred.topk(topk)[1] \n",
    "        top_five_classes = top_five_indices.numpy()\n",
    "        return top_five_probs, top_five_classes\n"
   ]
  },
  {
   "cell_type": "markdown",
   "metadata": {},
   "source": [
    "## Sanity Checking\n",
    "\n",
    "Now that you can use a trained model for predictions, check to make sure it makes sense. Even if the testing accuracy is high, it's always good to check that there aren't obvious bugs. Use `matplotlib` to plot the probabilities for the top 5 classes as a bar graph, along with the input image. It should look like this:\n",
    "\n",
    "<img src='assets/inference_example.png' width=300px>\n",
    "\n",
    "You can convert from the class integer encoding to actual flower names with the `cat_to_name.json` file (should have been loaded earlier in the notebook). To show a PyTorch tensor as an image, use the `imshow` function defined above."
   ]
  },
  {
   "cell_type": "code",
   "execution_count": 20,
   "metadata": {},
   "outputs": [
    {
     "name": "stdout",
     "output_type": "stream",
     "text": [
      "predictions\n",
      "tensor([[  1.0000e+00,   1.0626e-93,  6.3593e-102,  5.2590e-108,\n",
      "          3.9618e-129]], dtype=torch.float64)\n",
      "classes\n",
      "[[64 89 76 82 63]]\n"
     ]
    }
   ],
   "source": [
    "# Display an image along with the top 5 classes\n",
    "test_image = (train_dir+\"/1/image_06735.jpg\")\n",
    "\n",
    "predictions, classes = predict(test_image,model)\n",
    "\n",
    "print('predictions')\n",
    "print(predictions)\n",
    "print('classes')\n",
    "print(classes)\n"
   ]
  },
  {
   "cell_type": "code",
   "execution_count": 21,
   "metadata": {},
   "outputs": [],
   "source": [
    "def convert_to_names(classes, mapping_list):\n",
    "    names = []\n",
    "    for x in classes[0]:\n",
    "        print(x)\n",
    "        x = str(x)\n",
    "        if(x in mapping_list):\n",
    "            print(mapping_list[x])\n",
    "            names.append(mapping_list[x])\n",
    "    return names"
   ]
  },
  {
   "cell_type": "code",
   "execution_count": 22,
   "metadata": {},
   "outputs": [
    {
     "name": "stdout",
     "output_type": "stream",
     "text": [
      "64\n",
      "silverbush\n",
      "89\n",
      "watercress\n",
      "76\n",
      "morning glory\n",
      "82\n",
      "clematis\n",
      "63\n",
      "black-eyed susan\n"
     ]
    }
   ],
   "source": [
    "names = convert_to_names(classes, cat_to_name)"
   ]
  },
  {
   "cell_type": "code",
   "execution_count": 23,
   "metadata": {},
   "outputs": [],
   "source": [
    "def show_analysis():\n",
    "    plt.bar(names, predictions[0])\n",
    "    plt.show()"
   ]
  },
  {
   "cell_type": "code",
   "execution_count": 24,
   "metadata": {},
   "outputs": [
    {
     "data": {
      "image/png": "[encoded data removed]",
      "text/plain": [
       "<matplotlib.figure.Figure at 0x7f43d5b20390>"
      ]
     },
     "metadata": {
      "image/png": {
       "height": 250,
       "width": 373
      }
     },
     "output_type": "display_data"
    }
   ],
   "source": [
    "show_analysis()"
   ]
  },
  {
   "cell_type": "code",
   "execution_count": null,
   "metadata": {},
   "outputs": [],
   "source": []
  }
 ],
 "metadata": {
  "kernelspec": {
   "display_name": "Python 3",
   "language": "python",
   "name": "python3"
  },
  "language_info": {
   "codemirror_mode": {
    "name": "ipython",
    "version": 3
   },
   "file_extension": ".py",
   "mimetype": "text/x-python",
   "name": "python",
   "nbconvert_exporter": "python",
   "pygments_lexer": "ipython3",
   "version": "3.6.3"
  }
 },
 "nbformat": 4,
 "nbformat_minor": 2
}
